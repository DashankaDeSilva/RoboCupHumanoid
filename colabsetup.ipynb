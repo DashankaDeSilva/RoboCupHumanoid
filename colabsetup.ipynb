{
  "nbformat": 4,
  "nbformat_minor": 0,
  "metadata": {
    "colab": {
      "name": "colabsetup.ipynb",
      "version": "0.3.2",
      "provenance": [],
      "collapsed_sections": []
    },
    "kernelspec": {
      "name": "python3",
      "display_name": "Python 3"
    },
    "accelerator": "GPU"
  },
  "cells": [
    {
      "metadata": {
        "id": "ScsbO65fXps3",
        "colab_type": "text"
      },
      "cell_type": "markdown",
      "source": [
        "## RoboCupHumanoid Setup for Google Colab"
      ]
    },
    {
      "metadata": {
        "id": "QHszVqETXwqo",
        "colab_type": "text"
      },
      "cell_type": "markdown",
      "source": [
        "### Install Pytorch"
      ]
    },
    {
      "metadata": {
        "id": "A9YA4ewxXfnO",
        "colab_type": "code",
        "colab": {}
      },
      "cell_type": "code",
      "source": [
        "# http://pytorch.org/\n",
        "from os.path import exists\n",
        "from wheel.pep425tags import get_abbr_impl, get_impl_ver, get_abi_tag\n",
        "platform = '{}{}-{}'.format(get_abbr_impl(), get_impl_ver(), get_abi_tag())\n",
        "cuda_output = !ldconfig -p|grep cudart.so|sed -e 's/.*\\.\\([0-9]*\\)\\.\\([0-9]*\\)$/cu\\1\\2/'\n",
        "accelerator = cuda_output[0] if exists('/dev/nvidia0') else 'cpu'\n",
        "\n",
        "!pip install -q torch==1.0.0 torchvision"
      ],
      "execution_count": 0,
      "outputs": []
    },
    {
      "metadata": {
        "id": "i3rSl640X0Lj",
        "colab_type": "text"
      },
      "cell_type": "markdown",
      "source": [
        "### Clone RoboCupHumanoid"
      ]
    },
    {
      "metadata": {
        "id": "gCCy5JHMX2kJ",
        "colab_type": "code",
        "colab": {
          "base_uri": "https://localhost:8080/",
          "height": 136
        },
        "outputId": "b9216617-1d22-4420-b468-d6f80109bfbd"
      },
      "cell_type": "code",
      "source": [
        "!git clone https://github.com/torayeff/RoboCupHumanoid.git\n",
        "!mv RoboCupHumanoid/* .\n",
        "!rm RoboCupHumanoid/ -rf\n",
        "!mkdir data"
      ],
      "execution_count": 2,
      "outputs": [
        {
          "output_type": "stream",
          "text": [
            "Cloning into 'RoboCupHumanoid'...\n",
            "remote: Enumerating objects: 102, done.\u001b[K\n",
            "remote: Counting objects:   0% (1/102)   \u001b[K\rremote: Counting objects:   1% (2/102)   \u001b[K\rremote: Counting objects:   2% (3/102)   \u001b[K\rremote: Counting objects:   3% (4/102)   \u001b[K\rremote: Counting objects:   4% (5/102)   \u001b[K\rremote: Counting objects:   5% (6/102)   \u001b[K\rremote: Counting objects:   6% (7/102)   \u001b[K\rremote: Counting objects:   7% (8/102)   \u001b[K\rremote: Counting objects:   8% (9/102)   \u001b[K\rremote: Counting objects:   9% (10/102)   \u001b[K\rremote: Counting objects:  10% (11/102)   \u001b[K\rremote: Counting objects:  11% (12/102)   \u001b[K\rremote: Counting objects:  12% (13/102)   \u001b[K\rremote: Counting objects:  13% (14/102)   \u001b[K\rremote: Counting objects:  14% (15/102)   \u001b[K\rremote: Counting objects:  15% (16/102)   \u001b[K\rremote: Counting objects:  16% (17/102)   \u001b[K\rremote: Counting objects:  17% (18/102)   \u001b[K\rremote: Counting objects:  18% (19/102)   \u001b[K\rremote: Counting objects:  19% (20/102)   \u001b[K\rremote: Counting objects:  20% (21/102)   \u001b[K\rremote: Counting objects:  21% (22/102)   \u001b[K\rremote: Counting objects:  22% (23/102)   \u001b[K\rremote: Counting objects:  23% (24/102)   \u001b[K\rremote: Counting objects:  24% (25/102)   \u001b[K\rremote: Counting objects:  25% (26/102)   \u001b[K\rremote: Counting objects:  26% (27/102)   \u001b[K\rremote: Counting objects:  27% (28/102)   \u001b[K\rremote: Counting objects:  28% (29/102)   \u001b[K\rremote: Counting objects:  29% (30/102)   \u001b[K\rremote: Counting objects:  30% (31/102)   \u001b[K\rremote: Counting objects:  31% (32/102)   \u001b[K\rremote: Counting objects:  32% (33/102)   \u001b[K\rremote: Counting objects:  33% (34/102)   \u001b[K\rremote: Counting objects:  34% (35/102)   \u001b[K\rremote: Counting objects:  35% (36/102)   \u001b[K\rremote: Counting objects:  36% (37/102)   \u001b[K\rremote: Counting objects:  37% (38/102)   \u001b[K\rremote: Counting objects:  38% (39/102)   \u001b[K\rremote: Counting objects:  39% (40/102)   \u001b[K\rremote: Counting objects:  40% (41/102)   \u001b[K\rremote: Counting objects:  41% (42/102)   \u001b[K\rremote: Counting objects:  42% (43/102)   \u001b[K\rremote: Counting objects:  43% (44/102)   \u001b[K\rremote: Counting objects:  44% (45/102)   \u001b[K\rremote: Counting objects:  45% (46/102)   \u001b[K\rremote: Counting objects:  46% (47/102)   \u001b[K\rremote: Counting objects:  47% (48/102)   \u001b[K\rremote: Counting objects:  48% (49/102)   \u001b[K\rremote: Counting objects:  49% (50/102)   \u001b[K\rremote: Counting objects:  50% (51/102)   \u001b[K\rremote: Counting objects:  51% (53/102)   \u001b[K\rremote: Counting objects:  52% (54/102)   \u001b[K\rremote: Counting objects:  53% (55/102)   \u001b[K\rremote: Counting objects:  54% (56/102)   \u001b[K\rremote: Counting objects:  55% (57/102)   \u001b[K\rremote: Counting objects:  56% (58/102)   \u001b[K\rremote: Counting objects:  57% (59/102)   \u001b[K\rremote: Counting objects:  58% (60/102)   \u001b[K\rremote: Counting objects:  59% (61/102)   \u001b[K\rremote: Counting objects:  60% (62/102)   \u001b[K\rremote: Counting objects:  61% (63/102)   \u001b[K\rremote: Counting objects:  62% (64/102)   \u001b[K\rremote: Counting objects:  63% (65/102)   \u001b[K\rremote: Counting objects:  64% (66/102)   \u001b[K\rremote: Counting objects:  65% (67/102)   \u001b[K\rremote: Counting objects:  66% (68/102)   \u001b[K\rremote: Counting objects:  67% (69/102)   \u001b[K\rremote: Counting objects:  68% (70/102)   \u001b[K\rremote: Counting objects:  69% (71/102)   \u001b[K\rremote: Counting objects:  70% (72/102)   \u001b[K\rremote: Counting objects:  71% (73/102)   \u001b[K\rremote: Counting objects:  72% (74/102)   \u001b[K\rremote: Counting objects:  73% (75/102)   \u001b[K\rremote: Counting objects:  74% (76/102)   \u001b[K\rremote: Counting objects:  75% (77/102)   \u001b[K\rremote: Counting objects:  76% (78/102)   \u001b[K\rremote: Counting objects:  77% (79/102)   \u001b[K\rremote: Counting objects:  78% (80/102)   \u001b[K\rremote: Counting objects:  79% (81/102)   \u001b[K\rremote: Counting objects:  80% (82/102)   \u001b[K\rremote: Counting objects:  81% (83/102)   \u001b[K\rremote: Counting objects:  82% (84/102)   \u001b[K\rremote: Counting objects:  83% (85/102)   \u001b[K\rremote: Counting objects:  84% (86/102)   \u001b[K\rremote: Counting objects:  85% (87/102)   \u001b[K\rremote: Counting objects:  86% (88/102)   \u001b[K\rremote: Counting objects:  87% (89/102)   \u001b[K\rremote: Counting objects:  88% (90/102)   \u001b[K\rremote: Counting objects:  89% (91/102)   \u001b[K\rremote: Counting objects:  90% (92/102)   \u001b[K\rremote: Counting objects:  91% (93/102)   \u001b[K\rremote: Counting objects:  92% (94/102)   \u001b[K\rremote: Counting objects:  93% (95/102)   \u001b[K\rremote: Counting objects:  94% (96/102)   \u001b[K\rremote: Counting objects:  95% (97/102)   \u001b[K\rremote: Counting objects:  96% (98/102)   \u001b[K\rremote: Counting objects:  97% (99/102)   \u001b[K\rremote: Counting objects:  98% (100/102)   \u001b[K\rremote: Counting objects:  99% (101/102)   \u001b[K\rremote: Counting objects: 100% (102/102)   \u001b[K\rremote: Counting objects: 100% (102/102), done.\u001b[K\n",
            "remote: Compressing objects: 100% (81/81), done.\u001b[K\n",
            "remote: Total 102 (delta 43), reused 57 (delta 14), pack-reused 0\u001b[K\n",
            "Receiving objects: 100% (102/102), 1.07 MiB | 12.27 MiB/s, done.\n",
            "Resolving deltas: 100% (43/43), done.\n"
          ],
          "name": "stdout"
        }
      ]
    },
    {
      "metadata": {
        "id": "vrkktx3CX6gK",
        "colab_type": "text"
      },
      "cell_type": "markdown",
      "source": [
        "### Copy data folder from Google Drive to the current runtime"
      ]
    },
    {
      "metadata": {
        "id": "XZjzPHEJYAEZ",
        "colab_type": "code",
        "colab": {
          "base_uri": "https://localhost:8080/",
          "height": 54
        },
        "outputId": "775b7a70-d7be-4c83-afa5-b5ff707e24fc"
      },
      "cell_type": "code",
      "source": [
        "from google.colab import drive\n",
        "drive.mount('/content/drive')"
      ],
      "execution_count": 3,
      "outputs": [
        {
          "output_type": "stream",
          "text": [
            "Drive already mounted at /content/drive; to attempt to forcibly remount, call drive.mount(\"/content/drive\", force_remount=True).\n"
          ],
          "name": "stdout"
        }
      ]
    },
    {
      "metadata": {
        "id": "U7SOY3J1YDib",
        "colab_type": "code",
        "colab": {}
      },
      "cell_type": "code",
      "source": [
        "!cp drive/'My Drive'/labivision/data/train.zip data/\n",
        "!unzip -q data/train.zip -d data/\n",
        "!rm data/train.zip"
      ],
      "execution_count": 0,
      "outputs": []
    },
    {
      "metadata": {
        "id": "tbdVj9m3YKQ_",
        "colab_type": "code",
        "colab": {}
      },
      "cell_type": "code",
      "source": [
        "# cleaning\n",
        "# !rm -rf data/\n",
        "# !rm -rf sweaty_1\\ \\(for\\ comparing\\)\n",
        "# !rm -rf *.csv *.py *.md *.jpg"
      ],
      "execution_count": 0,
      "outputs": []
    },
    {
      "metadata": {
        "id": "Y5Ftcx3KYWsW",
        "colab_type": "code",
        "colab": {}
      },
      "cell_type": "code",
      "source": [
        ""
      ],
      "execution_count": 0,
      "outputs": []
    }
  ]
}